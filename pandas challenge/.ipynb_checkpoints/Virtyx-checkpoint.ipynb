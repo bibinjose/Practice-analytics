{
 "cells": [
  {
   "cell_type": "markdown",
   "metadata": {},
   "source": [
    "We have time series data for CPU, memory, and disk usage attached in a CSV-encoded text file. We want to analyze the data to better understand what is happening so we can inform our users. Write a program that will read in the full data, bucket each series into five minute intervals (aligned to the hour), and calculate the minimum, maximum, mean, and standard deviation of the data points in each bucket. Your program should print out the calculated statistics for each bucket. Hint: Not all of the buckets will have data."
   ]
  },
  {
   "cell_type": "code",
   "execution_count": 69,
   "metadata": {
    "collapsed": true
   },
   "outputs": [],
   "source": [
    "csv_file = r'C:\\usf\\Summer works\\obama\\timeseries.csv'"
   ]
  },
  {
   "cell_type": "code",
   "execution_count": 85,
   "metadata": {
    "collapsed": true
   },
   "outputs": [],
   "source": [
    "import pandas as pd\n",
    "df = pd.read_csv(csv_file)"
   ]
  },
  {
   "cell_type": "code",
   "execution_count": 86,
   "metadata": {},
   "outputs": [],
   "source": [
    "df['time'] = pd.to_datetime(df['time'])\n",
    "df.set_index('time', inplace=True)\n"
   ]
  },
  {
   "cell_type": "code",
   "execution_count": 87,
   "metadata": {
    "collapsed": true
   },
   "outputs": [],
   "source": [
    "df_cpu=df[df['label'] == 'cpu']\n",
    "df_disk=df[df['label'] == 'disk']\n",
    "df_memory=df[df['label'] == 'memory']"
   ]
  },
  {
   "cell_type": "code",
   "execution_count": 73,
   "metadata": {},
   "outputs": [
    {
     "data": {
      "text/plain": [
       "time\n",
       "2018-08-01 18:25:00    0.335000\n",
       "2018-08-01 18:30:00    0.574000\n",
       "2018-08-01 18:35:00    0.408000\n",
       "2018-08-01 18:40:00    0.500000\n",
       "2018-08-01 18:45:00    0.522000\n",
       "2018-08-01 18:50:00    0.524000\n",
       "2018-08-01 18:55:00    0.604000\n",
       "2018-08-01 19:00:00    0.476000\n",
       "2018-08-01 19:05:00    0.476000\n",
       "2018-08-01 19:10:00    0.352000\n",
       "2018-08-01 19:15:00    0.590000\n",
       "2018-08-01 19:20:00    0.758000\n",
       "2018-08-01 19:25:00    0.524000\n",
       "2018-08-01 19:30:00    0.656000\n",
       "2018-08-01 19:35:00    0.322000\n",
       "2018-08-01 19:40:00    0.676667\n",
       "2018-08-01 19:45:00         NaN\n",
       "2018-08-01 19:50:00         NaN\n",
       "2018-08-01 19:55:00    0.416000\n",
       "2018-08-01 20:00:00    0.602000\n",
       "2018-08-01 20:05:00    0.420000\n",
       "Freq: 5T, Name: value, dtype: float64"
      ]
     },
     "execution_count": 73,
     "metadata": {},
     "output_type": "execute_result"
    }
   ],
   "source": [
    "df_cpu.groupby(pd.TimeGrouper('5Min'))['value'].mean()"
   ]
  },
  {
   "cell_type": "code",
   "execution_count": 74,
   "metadata": {},
   "outputs": [
    {
     "data": {
      "text/plain": [
       "time\n",
       "2018-08-01 18:25:00    0.717500\n",
       "2018-08-01 18:30:00    0.692000\n",
       "2018-08-01 18:35:00    0.672000\n",
       "2018-08-01 18:40:00    0.648000\n",
       "2018-08-01 18:45:00    0.628000\n",
       "2018-08-01 18:50:00    0.600000\n",
       "2018-08-01 18:55:00    0.570000\n",
       "2018-08-01 19:00:00    0.556000\n",
       "2018-08-01 19:05:00    0.528000\n",
       "2018-08-01 19:10:00    0.506000\n",
       "2018-08-01 19:15:00    0.478000\n",
       "2018-08-01 19:20:00    0.458000\n",
       "2018-08-01 19:25:00    0.418000\n",
       "2018-08-01 19:30:00    0.384000\n",
       "2018-08-01 19:35:00    0.352000\n",
       "2018-08-01 19:40:00    0.323333\n",
       "2018-08-01 19:45:00         NaN\n",
       "2018-08-01 19:50:00         NaN\n",
       "2018-08-01 19:55:00    0.250000\n",
       "2018-08-01 20:00:00    0.224000\n",
       "2018-08-01 20:05:00    0.210000\n",
       "Freq: 5T, Name: value, dtype: float64"
      ]
     },
     "execution_count": 74,
     "metadata": {},
     "output_type": "execute_result"
    }
   ],
   "source": [
    "df_disk.groupby(pd.TimeGrouper('5Min'))['value'].mean()"
   ]
  },
  {
   "cell_type": "code",
   "execution_count": 75,
   "metadata": {},
   "outputs": [
    {
     "data": {
      "text/plain": [
       "time\n",
       "2018-08-01 18:25:00    0.207500\n",
       "2018-08-01 18:30:00    0.352000\n",
       "2018-08-01 18:35:00    0.494000\n",
       "2018-08-01 18:40:00    0.558000\n",
       "2018-08-01 18:45:00    0.376000\n",
       "2018-08-01 18:50:00    0.262000\n",
       "2018-08-01 18:55:00    0.318000\n",
       "2018-08-01 19:00:00    0.326000\n",
       "2018-08-01 19:05:00    0.674000\n",
       "2018-08-01 19:10:00    0.376000\n",
       "2018-08-01 19:15:00    0.346000\n",
       "2018-08-01 19:20:00    0.688000\n",
       "2018-08-01 19:25:00    0.530000\n",
       "2018-08-01 19:30:00    0.416000\n",
       "2018-08-01 19:35:00    0.724000\n",
       "2018-08-01 19:40:00    0.386667\n",
       "2018-08-01 19:45:00         NaN\n",
       "2018-08-01 19:50:00         NaN\n",
       "2018-08-01 19:55:00    0.482000\n",
       "2018-08-01 20:00:00    0.398000\n",
       "2018-08-01 20:05:00    0.500000\n",
       "Freq: 5T, Name: value, dtype: float64"
      ]
     },
     "execution_count": 75,
     "metadata": {},
     "output_type": "execute_result"
    }
   ],
   "source": [
    "df_memory.groupby(pd.TimeGrouper('5Min'))['value'].mean()"
   ]
  },
  {
   "cell_type": "code",
   "execution_count": 95,
   "metadata": {},
   "outputs": [],
   "source": [
    "dfs=df_cpu.groupby(pd.TimeGrouper('5Min'))['value'].std()"
   ]
  },
  {
   "cell_type": "code",
   "execution_count": 92,
   "metadata": {},
   "outputs": [],
   "source": [
    "#dfs.reset_index()\n",
    "dfs=dfs.rename(columns={'value':'cpu_sd'}, inplace=True)"
   ]
  },
  {
   "cell_type": "code",
   "execution_count": 97,
   "metadata": {},
   "outputs": [
    {
     "data": {
      "text/plain": [
       "pandas.core.frame.DataFrame"
      ]
     },
     "execution_count": 97,
     "metadata": {},
     "output_type": "execute_result"
    }
   ],
   "source": [
    "type(df)"
   ]
  },
  {
   "cell_type": "code",
   "execution_count": null,
   "metadata": {
    "collapsed": true
   },
   "outputs": [],
   "source": []
  }
 ],
 "metadata": {
  "kernelspec": {
   "display_name": "Python 3",
   "language": "python",
   "name": "python3"
  },
  "language_info": {
   "codemirror_mode": {
    "name": "ipython",
    "version": 3
   },
   "file_extension": ".py",
   "mimetype": "text/x-python",
   "name": "python",
   "nbconvert_exporter": "python",
   "pygments_lexer": "ipython3",
   "version": "3.6.1"
  }
 },
 "nbformat": 4,
 "nbformat_minor": 2
}
