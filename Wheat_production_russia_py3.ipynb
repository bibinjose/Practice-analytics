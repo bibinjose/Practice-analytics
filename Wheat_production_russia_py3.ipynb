{
 "cells": [
  {
   "cell_type": "code",
   "execution_count": 3,
   "metadata": {
    "collapsed": true
   },
   "outputs": [],
   "source": [
    "#Program to save monthly Wheat production data  in Russia from 2018 to 2010 \n",
    "#The data is available in USDA website as txt,xml,pdf and xls format\n",
    "#This program uses xml to get data\n",
    "#The data is distributed over 100 xml files\n"
   ]
  },
  {
   "cell_type": "code",
   "execution_count": 10,
   "metadata": {},
   "outputs": [],
   "source": [
    "import pandas as pd\n",
    "import xml.etree.ElementTree as ET\n",
    "from urllib.request import urlopen"
   ]
  },
  {
   "cell_type": "code",
   "execution_count": 11,
   "metadata": {
    "collapsed": true
   },
   "outputs": [],
   "source": [
    "val_list=[]\n",
    "xmlfiles=[{'2018':['06-12-2018','05-11-2018','04-10-2018','03-08-2018','02-08-2018','01-12-2018']},\n",
    "         {'2017':['12-12-2017','11-09-2017','10-12-2017','09-12-2017','08-10-2017','07-12-2017','06-09-2017','05-10-2017'\n",
    "          ,'04-11-2017','03-09-2017','02-09-2017','01-12-2017']},\n",
    "         {'2016':['12-09-2016','11-09-2016','10-12-2016','09-12-2016','08-12-2016','07-12-2016','06-10-2016','05-10-2016'\n",
    "           ,'04-12-2016','03-09-2016','02-09-2016','01-12-2016']},\n",
    "         {'2015':['12-09-2015','11-10-2015','10-09-2015','09-11-2015','08-12-2015','07-10-2015','06-10-2015','05-12-2015'\n",
    "       ,'04-09-2015','03-10-2015','02-10-2015','01-12-2015']},\n",
    "         {'2014':['12-10-2014','11-10-2014','10-10-2014','09-11-2014','08-12-2014','07-11-2014','06-11-2014','05-09-2014'\n",
    "       ,'04-09-2014','03-10-2014','02-10-2014','01-10-2014']},\n",
    "         {'2013':['12-10-2013','11-08-2013','09-12-2013','08-12-2013','07-11-2013','06-12-2013','05-10-2013'\n",
    "       ,'04-10-2013','03-08-2013','02-08-2013','01-11-2013']},\n",
    "         {'2012':['12-11-2012','11-09-2012','10-11-2012','09-12-2012','08-10-2012','07-11-2012','06-12-2012','05-10-2012'\n",
    "       ,'04-10-2012','03-09-2012','02-09-2012','01-12-2012']},\n",
    "          {'2011':['12-09-2011','11-09-2011','10-12-2011','09-12-2011','08-11-2011','07-12-2011','06-09-2011','05-11-2011'\n",
    "       ,'04-08-2011','03-10-2011','02-09-2011','01-12-2011']},\n",
    "          {'2010':['12-10-2010','11-09-2010','10-08-2010','09-10-2010','08-12-2010','07-09-2010']}]"
   ]
  },
  {
   "cell_type": "code",
   "execution_count": 12,
   "metadata": {},
   "outputs": [
    {
     "name": "stdout",
     "output_type": "stream",
     "text": [
      "[{'year': 2018, 'month': 'May', 'value': 72.0}, {'year': 2018, 'month': 'Apr'}, {'year': 2018, 'month': 'Mar', 'value': 84.99}, {'year': 2018, 'month': 'Feb', 'value': 85.0}, {'year': 2018, 'month': 'Jan', 'value': 85.0}, {'year': 2017, 'month': 'Dec', 'value': 83.0}, {'year': 2017, 'month': 'Nov', 'value': 83.0}, {'year': 2017, 'month': 'Oct', 'value': 82.0}, {'year': 2017, 'month': 'Sep', 'value': 81.0}, {'year': 2017, 'month': 'Aug', 'value': 77.5}, {'year': 2017, 'month': 'Jul', 'value': 72.0}, {'year': 2017, 'month': 'Jun', 'value': 69.0}, {'year': 2017, 'month': 'May', 'value': 67.0}, {'year': 2017, 'month': 'Apr'}, {'year': 2017, 'month': 'Mar', 'value': 72.5}, {'year': 2017, 'month': 'Feb', 'value': 72.5}, {'year': 2017, 'month': 'Jan', 'value': 72.5}, {'year': 2016, 'month': 'Dec', 'value': 72.0}, {'year': 2016, 'month': 'Nov', 'value': 72.0}, {'year': 2016, 'month': 'Oct', 'value': 72.0}, {'year': 2016, 'month': 'Sep', 'value': 72.0}, {'year': 2016, 'month': 'Aug', 'value': 72.0}, {'year': 2016, 'month': 'Jul', 'value': 65.0}, {'year': 2016, 'month': 'Jun', 'value': 64.0}, {'year': 2016, 'month': 'May', 'value': 63.0}, {'year': 2016, 'month': 'Apr'}, {'year': 2016, 'month': 'Mar', 'value': 61.0}, {'year': 2016, 'month': 'Feb', 'value': 61.0}, {'year': 2016, 'month': 'Jan', 'value': 61.0}, {'year': 2015, 'month': 'Dec', 'value': 60.5}, {'year': 2015, 'month': 'Nov', 'value': 60.5}, {'year': 2015, 'month': 'Oct', 'value': 61.0}, {'year': 2015, 'month': 'Sep', 'value': 61.0}, {'year': 2015, 'month': 'Aug', 'value': 60.0}, {'year': 2015, 'month': 'Jul', 'value': 57.0}, {'year': 2015, 'month': 'Jun', 'value': 55.0}, {'year': 2015, 'month': 'May', 'value': 53.5}, {'year': 2015, 'month': 'Apr'}, {'year': 2015, 'month': 'Mar', 'value': 59.0}, {'year': 2015, 'month': 'Feb', 'value': 59.0}, {'year': 2015, 'month': 'Jan', 'value': 59.0}, {'year': 2015, 'month': 'NA'}, {'year': 2014, 'month': 'Nov', 'value': 59.0}, {'year': 2014, 'month': 'Oct', 'value': 59.0}, {'year': 2014, 'month': 'Sep', 'value': 59.0}, {'year': 2014, 'month': 'Aug', 'value': 59.0}, {'year': 2014, 'month': 'Jul', 'value': 53.0}, {'year': 2014, 'month': 'Jun', 'value': 53.0}, {'year': 2014, 'month': 'May', 'value': 52.0}, {'year': 2014, 'month': 'Apr'}, {'year': 2014, 'month': 'Mar', 'value': 52.07}, {'year': 2014, 'month': 'Feb', 'value': 52.07}, {'year': 2014, 'month': 'Jan', 'value': 52.1}, {'year': 2013, 'month': 'Dec', 'value': 51.5}, {'year': 2013, 'month': 'Nov', 'value': 51.5}, {'year': 2013, 'month': 'Sep', 'value': 54.0}, {'year': 2013, 'month': 'Aug', 'value': 54.0}, {'year': 2013, 'month': 'Jul', 'value': 54.0}, {'year': 2013, 'month': 'Jun', 'value': 54.0}, {'year': 2013, 'month': 'May', 'value': 56.0}, {'year': 2013, 'month': 'Apr'}, {'year': 2013, 'month': 'Mar', 'value': 37.72}, {'year': 2013, 'month': 'Feb', 'value': 37.7}, {'year': 2013, 'month': 'Jan', 'value': 37.7}, {'year': 2012, 'month': 'Dec', 'value': 38.0}, {'year': 2012, 'month': 'Nov', 'value': 38.0}, {'year': 2012, 'month': 'Oct', 'value': 38.0}, {'year': 2012, 'month': 'Sep', 'value': 39.0}, {'year': 2012, 'month': 'Aug', 'value': 43.0}, {'year': 2012, 'month': 'Jul', 'value': 49.0}, {'year': 2012, 'month': 'Jun', 'value': 53.0}, {'year': 2012, 'month': 'May', 'value': 56.0}, {'year': 2012, 'month': 'Apr'}, {'year': 2012, 'month': 'Mar', 'value': 56.23}, {'year': 2012, 'month': 'Feb', 'value': 56.23}, {'year': 2012, 'month': 'Jan', 'value': 56.23}, {'year': 2011, 'month': 'Dec', 'value': 56.0}, {'year': 2011, 'month': 'Nov', 'value': 56.0}, {'year': 2011, 'month': 'Oct', 'value': 56.0}, {'year': 2011, 'month': 'Sep', 'value': 56.0}, {'year': 2011, 'month': 'Aug', 'value': 56.0}, {'year': 2011, 'month': 'Jul', 'value': 53.0}, {'year': 2011, 'month': 'Jun', 'value': 53.0}, {'year': 2011, 'month': 'May', 'value': 53.0}, {'year': 2011, 'month': 'Apr'}, {'year': 2011, 'month': 'Mar', 'value': 41.5}, {'year': 2011, 'month': 'Feb', 'value': 41.5}, {'year': 2011, 'month': 'Jan', 'value': 41.5}, {'year': 2010, 'month': 'Dec', 'value': 41.5}, {'year': 2010, 'month': 'Nov', 'value': 42.0}, {'year': 2010, 'month': 'Oct', 'value': 42.5}, {'year': 2010, 'month': 'Sep', 'value': 42.5}, {'year': 2010, 'month': 'Aug', 'value': 45.0}, {'year': 2010, 'month': 'Jul', 'value': 53.0}, {'year': 2010, 'month': 'NA'}]\n"
     ]
    }
   ],
   "source": [
    "for entries in xmlfiles:\n",
    "    for key,values in entries.items():\n",
    "        for items in values:\n",
    "            xmlfile= 'http://usda.mannlib.cornell.edu/usda/waob/wasde//2010s/'+key+'/wasde-'+items+'.xml'\n",
    "            russia_val={}\n",
    "            tree =ET.parse(urlopen(xmlfile))\n",
    "            root = tree.getroot()\n",
    "            try:\n",
    "                for child in root.find('sr19/Report/matrix1/m1_region_group_Collection'):\n",
    "                    if 'russia' in child.attrib['region1'].lower():\n",
    "                        for child1 in child.find('m1_month_group_Collection'):\n",
    "                            month=child1.attrib['forecast_month1']\n",
    "                            break\n",
    "                        for child2 in child.find('m1_month_group_Collection/m1_month_group/m1_attribute_group_Collection'):\n",
    "                            if 'production' in child2.attrib['attribute1'].lower():\n",
    "                                for child3 in child2.find('FormatFiller3'):\n",
    "                                    value= child3.attrib['cell_value1']\n",
    "            except Exception:\n",
    "                month='NA'\n",
    "                value='NA'\n",
    "            if month=='Dec':\n",
    "                key=int(key)-1\n",
    "            \n",
    "            russia_val['year']=int(key)\n",
    "            russia_val['month']=month\n",
    "            try:\n",
    "                russia_val['value']=float(value)\n",
    "            except ValueError:\n",
    "                pass\n",
    "            val_list.append(russia_val)\n",
    "print (val_list)\n"
   ]
  },
  {
   "cell_type": "code",
   "execution_count": 13,
   "metadata": {
    "collapsed": true
   },
   "outputs": [],
   "source": [
    "production_data=pd.DataFrame(val_list)\n",
    "writer = pd.ExcelWriter('Wheat_Russia_pro.xls')\n",
    "production_data.to_excel(writer,'Russia_Production',index=False)\n",
    "writer.save()\n"
   ]
  },
  {
   "cell_type": "code",
   "execution_count": null,
   "metadata": {
    "collapsed": true
   },
   "outputs": [],
   "source": []
  }
 ],
 "metadata": {
  "kernelspec": {
   "display_name": "Python 3",
   "language": "python",
   "name": "python3"
  },
  "language_info": {
   "codemirror_mode": {
    "name": "ipython",
    "version": 3
   },
   "file_extension": ".py",
   "mimetype": "text/x-python",
   "name": "python",
   "nbconvert_exporter": "python",
   "pygments_lexer": "ipython3",
   "version": "3.6.1"
  }
 },
 "nbformat": 4,
 "nbformat_minor": 2
}
