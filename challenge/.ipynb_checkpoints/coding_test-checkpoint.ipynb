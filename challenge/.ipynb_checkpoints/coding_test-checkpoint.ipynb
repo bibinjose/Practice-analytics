{
 "cells": [
  {
   "cell_type": "code",
   "execution_count": 550,
   "metadata": {
    "collapsed": true
   },
   "outputs": [],
   "source": [
    "color_values=r'C:\\coding_test\\color_values.txt'"
   ]
  },
  {
   "cell_type": "code",
   "execution_count": 551,
   "metadata": {
    "collapsed": true
   },
   "outputs": [],
   "source": [
    "location_details=r'C:\\coding_test\\business_location.json'"
   ]
  },
  {
   "cell_type": "code",
   "execution_count": 552,
   "metadata": {
    "collapsed": true
   },
   "outputs": [],
   "source": [
    "color_report=r'C:\\coding_test\\color_report.csv'"
   ]
  },
  {
   "cell_type": "code",
   "execution_count": 553,
   "metadata": {
    "collapsed": true
   },
   "outputs": [],
   "source": [
    "import pandas as pd\n",
    "data = pd.read_csv(color_values, sep=\"\\n\", header=None)"
   ]
  },
  {
   "cell_type": "code",
   "execution_count": 554,
   "metadata": {
    "collapsed": true
   },
   "outputs": [],
   "source": [
    "colorval=dict()\n",
    "for index, row in data.iterrows():\n",
    "    color,value=str(row[0]).split(\" \")\n",
    "    colorval[color]=value"
   ]
  },
  {
   "cell_type": "code",
   "execution_count": 555,
   "metadata": {},
   "outputs": [
    {
     "name": "stdout",
     "output_type": "stream",
     "text": [
      "{'blue': '4.2', 'gray': '0.8', 'purple': '1.7', 'fuchsia': '2.1', 'aqua': '2.3', 'maroon': '4.0', 'olive': '2.5', 'black': '1.67', 'yellow': '2.5', 'teal': '1.6', 'navy': '2.8', 'green': '3.2', 'white': '3.0', 'silver': '1.2', 'red': '5.5', 'lime': '0.7'}\n"
     ]
    }
   ],
   "source": [
    "print colorval"
   ]
  },
  {
   "cell_type": "code",
   "execution_count": 556,
   "metadata": {
    "collapsed": true
   },
   "outputs": [],
   "source": [
    "import json"
   ]
  },
  {
   "cell_type": "code",
   "execution_count": 557,
   "metadata": {
    "collapsed": true
   },
   "outputs": [],
   "source": [
    "with open(location_details) as f:\n",
    "    company_details = json.load(f)\n"
   ]
  },
  {
   "cell_type": "code",
   "execution_count": 558,
   "metadata": {
    "collapsed": true
   },
   "outputs": [],
   "source": [
    "loc_Values=dict()\n",
    "for location_detail in company_details:\n",
    "    loc_Values[location_detail['facility']]=(location_detail['location']['x'],location_detail['location']['y'],location_detail['id'])"
   ]
  },
  {
   "cell_type": "code",
   "execution_count": 559,
   "metadata": {},
   "outputs": [
    {
     "data": {
      "text/plain": [
       "2339"
      ]
     },
     "execution_count": 559,
     "metadata": {},
     "output_type": "execute_result"
    }
   ],
   "source": [
    "len(loc_Values)"
   ]
  },
  {
   "cell_type": "code",
   "execution_count": 560,
   "metadata": {
    "collapsed": true
   },
   "outputs": [],
   "source": [
    "df = pd.read_csv(color_report, sep=',')"
   ]
  },
  {
   "cell_type": "code",
   "execution_count": 561,
   "metadata": {
    "collapsed": true
   },
   "outputs": [],
   "source": [
    "\n",
    "for index,row in df.iterrows():\n",
    "    #row['amount_color']=colorval[row['color']]*row['amount_color']\n",
    "    amount=(float(str(row['amount_color']).replace(',','')))\n",
    "    color_val=float(colorval[row['color']])\n",
    "    df.loc[index,'amount_color']=float(amount*color_val)"
   ]
  },
  {
   "cell_type": "code",
   "execution_count": 562,
   "metadata": {
    "collapsed": true
   },
   "outputs": [],
   "source": [
    "df=df.drop_duplicates(subset=['color', 'name'], keep='first')"
   ]
  },
  {
   "cell_type": "code",
   "execution_count": 563,
   "metadata": {
    "collapsed": true
   },
   "outputs": [],
   "source": [
    "df=df.groupby('name')['amount_color'].sum().reset_index()"
   ]
  },
  {
   "cell_type": "code",
   "execution_count": 564,
   "metadata": {},
   "outputs": [
    {
     "data": {
      "text/html": [
       "<div>\n",
       "<style scoped>\n",
       "    .dataframe tbody tr th:only-of-type {\n",
       "        vertical-align: middle;\n",
       "    }\n",
       "\n",
       "    .dataframe tbody tr th {\n",
       "        vertical-align: top;\n",
       "    }\n",
       "\n",
       "    .dataframe thead th {\n",
       "        text-align: right;\n",
       "    }\n",
       "</style>\n",
       "<table border=\"1\" class=\"dataframe\">\n",
       "  <thead>\n",
       "    <tr style=\"text-align: right;\">\n",
       "      <th></th>\n",
       "      <th>name</th>\n",
       "      <th>amount_color</th>\n",
       "    </tr>\n",
       "  </thead>\n",
       "  <tbody>\n",
       "    <tr>\n",
       "      <th>0</th>\n",
       "      <td>Acevedo, Dalton and Coleman Niches</td>\n",
       "      <td>1402.1490</td>\n",
       "    </tr>\n",
       "    <tr>\n",
       "      <th>1</th>\n",
       "      <td>Acosta PLC Users</td>\n",
       "      <td>1251.2000</td>\n",
       "    </tr>\n",
       "    <tr>\n",
       "      <th>2</th>\n",
       "      <td>Acosta, Gonzalez and Petersen Functionalities</td>\n",
       "      <td>269.2550</td>\n",
       "    </tr>\n",
       "    <tr>\n",
       "      <th>3</th>\n",
       "      <td>Adams and Sons Deliverables</td>\n",
       "      <td>3630.7800</td>\n",
       "    </tr>\n",
       "    <tr>\n",
       "      <th>4</th>\n",
       "      <td>Adkins-Brown Methodologies</td>\n",
       "      <td>1072.6769</td>\n",
       "    </tr>\n",
       "    <tr>\n",
       "      <th>5</th>\n",
       "      <td>Aguilar-Lawrence Vortals</td>\n",
       "      <td>107.4960</td>\n",
       "    </tr>\n",
       "    <tr>\n",
       "      <th>6</th>\n",
       "      <td>Alexander Group Eyeballs</td>\n",
       "      <td>103.1660</td>\n",
       "    </tr>\n",
       "    <tr>\n",
       "      <th>7</th>\n",
       "      <td>Alexander, Lyons and Gomez Networks</td>\n",
       "      <td>2111.5200</td>\n",
       "    </tr>\n",
       "    <tr>\n",
       "      <th>8</th>\n",
       "      <td>Alexander, Shepherd and Hall Services</td>\n",
       "      <td>1207.0750</td>\n",
       "    </tr>\n",
       "    <tr>\n",
       "      <th>9</th>\n",
       "      <td>Alexander-Cook Communities</td>\n",
       "      <td>527.3250</td>\n",
       "    </tr>\n",
       "    <tr>\n",
       "      <th>10</th>\n",
       "      <td>Allen Ltd Info-mediaries</td>\n",
       "      <td>1027.1600</td>\n",
       "    </tr>\n",
       "    <tr>\n",
       "      <th>11</th>\n",
       "      <td>Allen-Webster Models</td>\n",
       "      <td>2686.1700</td>\n",
       "    </tr>\n",
       "    <tr>\n",
       "      <th>12</th>\n",
       "      <td>Alvarado, Taylor and Casey Deliverables</td>\n",
       "      <td>1233.8200</td>\n",
       "    </tr>\n",
       "    <tr>\n",
       "      <th>13</th>\n",
       "      <td>Alvarado, Yoder and Torres Mindshare</td>\n",
       "      <td>1539.6510</td>\n",
       "    </tr>\n",
       "    <tr>\n",
       "      <th>14</th>\n",
       "      <td>Alvarez Ltd Synergies</td>\n",
       "      <td>3447.7040</td>\n",
       "    </tr>\n",
       "    <tr>\n",
       "      <th>15</th>\n",
       "      <td>Alvarez-White Models</td>\n",
       "      <td>353.0750</td>\n",
       "    </tr>\n",
       "    <tr>\n",
       "      <th>16</th>\n",
       "      <td>Anderson Inc Metrics</td>\n",
       "      <td>4610.8020</td>\n",
       "    </tr>\n",
       "    <tr>\n",
       "      <th>17</th>\n",
       "      <td>Anderson Inc Supply-chains</td>\n",
       "      <td>578.5200</td>\n",
       "    </tr>\n",
       "    <tr>\n",
       "      <th>18</th>\n",
       "      <td>Anderson Ltd Relationships</td>\n",
       "      <td>498.7200</td>\n",
       "    </tr>\n",
       "    <tr>\n",
       "      <th>19</th>\n",
       "      <td>Anderson PLC E-tailers</td>\n",
       "      <td>178.4110</td>\n",
       "    </tr>\n",
       "    <tr>\n",
       "      <th>20</th>\n",
       "      <td>Anderson and Sons Deliverables</td>\n",
       "      <td>1010.6800</td>\n",
       "    </tr>\n",
       "    <tr>\n",
       "      <th>21</th>\n",
       "      <td>Anderson and Sons Vortals</td>\n",
       "      <td>1991.3100</td>\n",
       "    </tr>\n",
       "    <tr>\n",
       "      <th>22</th>\n",
       "      <td>Anderson, Small and Jones Markets</td>\n",
       "      <td>773.5200</td>\n",
       "    </tr>\n",
       "    <tr>\n",
       "      <th>23</th>\n",
       "      <td>Anderson-Cordova Models</td>\n",
       "      <td>1862.6750</td>\n",
       "    </tr>\n",
       "    <tr>\n",
       "      <th>24</th>\n",
       "      <td>Andrews Group Markets</td>\n",
       "      <td>586.6280</td>\n",
       "    </tr>\n",
       "    <tr>\n",
       "      <th>25</th>\n",
       "      <td>Andrews LLC Info-mediaries</td>\n",
       "      <td>1844.3810</td>\n",
       "    </tr>\n",
       "    <tr>\n",
       "      <th>26</th>\n",
       "      <td>Andrews, Bennett and Lee Functionalities</td>\n",
       "      <td>354.2400</td>\n",
       "    </tr>\n",
       "    <tr>\n",
       "      <th>27</th>\n",
       "      <td>Andrews, Cook and Case Partnerships</td>\n",
       "      <td>1341.5920</td>\n",
       "    </tr>\n",
       "    <tr>\n",
       "      <th>28</th>\n",
       "      <td>Armstrong Ltd Niches</td>\n",
       "      <td>1007.2750</td>\n",
       "    </tr>\n",
       "    <tr>\n",
       "      <th>29</th>\n",
       "      <td>Armstrong, Tanner and Hopkins Mindshare</td>\n",
       "      <td>1091.7480</td>\n",
       "    </tr>\n",
       "    <tr>\n",
       "      <th>...</th>\n",
       "      <td>...</td>\n",
       "      <td>...</td>\n",
       "    </tr>\n",
       "    <tr>\n",
       "      <th>822</th>\n",
       "      <td>Williams-Ross E-commerce</td>\n",
       "      <td>462.0600</td>\n",
       "    </tr>\n",
       "    <tr>\n",
       "      <th>823</th>\n",
       "      <td>Williams-Rowe Interfaces</td>\n",
       "      <td>550.0740</td>\n",
       "    </tr>\n",
       "    <tr>\n",
       "      <th>824</th>\n",
       "      <td>Williams-York Infrastructures</td>\n",
       "      <td>1518.8400</td>\n",
       "    </tr>\n",
       "    <tr>\n",
       "      <th>825</th>\n",
       "      <td>Williamson, Baxter and Garcia Interfaces</td>\n",
       "      <td>1909.1150</td>\n",
       "    </tr>\n",
       "    <tr>\n",
       "      <th>826</th>\n",
       "      <td>Williamson, Taylor and Grant E-business</td>\n",
       "      <td>1512.0420</td>\n",
       "    </tr>\n",
       "    <tr>\n",
       "      <th>827</th>\n",
       "      <td>Willis Ltd Synergies</td>\n",
       "      <td>769.5960</td>\n",
       "    </tr>\n",
       "    <tr>\n",
       "      <th>828</th>\n",
       "      <td>Wilson Inc E-tailers</td>\n",
       "      <td>852.9358</td>\n",
       "    </tr>\n",
       "    <tr>\n",
       "      <th>829</th>\n",
       "      <td>Wilson PLC Interfaces</td>\n",
       "      <td>725.5750</td>\n",
       "    </tr>\n",
       "    <tr>\n",
       "      <th>830</th>\n",
       "      <td>Wilson-Curry Functionalities</td>\n",
       "      <td>427.7490</td>\n",
       "    </tr>\n",
       "    <tr>\n",
       "      <th>831</th>\n",
       "      <td>Wilson-Gonzalez Partnerships</td>\n",
       "      <td>2322.4700</td>\n",
       "    </tr>\n",
       "    <tr>\n",
       "      <th>832</th>\n",
       "      <td>Wilson-Harrington Content</td>\n",
       "      <td>567.2640</td>\n",
       "    </tr>\n",
       "    <tr>\n",
       "      <th>833</th>\n",
       "      <td>Winters-Jackson Platforms</td>\n",
       "      <td>375.8200</td>\n",
       "    </tr>\n",
       "    <tr>\n",
       "      <th>834</th>\n",
       "      <td>Wolf, Parker and Church Users</td>\n",
       "      <td>3523.9600</td>\n",
       "    </tr>\n",
       "    <tr>\n",
       "      <th>835</th>\n",
       "      <td>Wolfe, Houston and Zamora Infrastructures</td>\n",
       "      <td>392.5320</td>\n",
       "    </tr>\n",
       "    <tr>\n",
       "      <th>836</th>\n",
       "      <td>Wood, Ellis and Diaz Technologies</td>\n",
       "      <td>3376.1920</td>\n",
       "    </tr>\n",
       "    <tr>\n",
       "      <th>837</th>\n",
       "      <td>Wood, Nelson and Stevens Action-items</td>\n",
       "      <td>1403.9200</td>\n",
       "    </tr>\n",
       "    <tr>\n",
       "      <th>838</th>\n",
       "      <td>Wood, Silva and Brooks Supply-chains</td>\n",
       "      <td>2682.7290</td>\n",
       "    </tr>\n",
       "    <tr>\n",
       "      <th>839</th>\n",
       "      <td>Wood-Nelson Mindshare</td>\n",
       "      <td>1862.3220</td>\n",
       "    </tr>\n",
       "    <tr>\n",
       "      <th>840</th>\n",
       "      <td>Wood-Smith Partnerships</td>\n",
       "      <td>1229.9280</td>\n",
       "    </tr>\n",
       "    <tr>\n",
       "      <th>841</th>\n",
       "      <td>Woodard, Eaton and Harris Web-readiness</td>\n",
       "      <td>792.8640</td>\n",
       "    </tr>\n",
       "    <tr>\n",
       "      <th>842</th>\n",
       "      <td>Woodward, Martinez and Nelson Relationships</td>\n",
       "      <td>1114.9421</td>\n",
       "    </tr>\n",
       "    <tr>\n",
       "      <th>843</th>\n",
       "      <td>Wright Inc Portals</td>\n",
       "      <td>979.6200</td>\n",
       "    </tr>\n",
       "    <tr>\n",
       "      <th>844</th>\n",
       "      <td>Wright, Olson and Pope Markets</td>\n",
       "      <td>1424.8250</td>\n",
       "    </tr>\n",
       "    <tr>\n",
       "      <th>845</th>\n",
       "      <td>Wright, Zimmerman and Cannon Web-readiness</td>\n",
       "      <td>324.4480</td>\n",
       "    </tr>\n",
       "    <tr>\n",
       "      <th>846</th>\n",
       "      <td>Wright-Roth Initiatives</td>\n",
       "      <td>2989.0240</td>\n",
       "    </tr>\n",
       "    <tr>\n",
       "      <th>847</th>\n",
       "      <td>Yang, Pruitt and Oconnor Action-items</td>\n",
       "      <td>1713.3120</td>\n",
       "    </tr>\n",
       "    <tr>\n",
       "      <th>848</th>\n",
       "      <td>Young and Sons Technologies</td>\n",
       "      <td>1231.9860</td>\n",
       "    </tr>\n",
       "    <tr>\n",
       "      <th>849</th>\n",
       "      <td>Young, Hess and Mcbride Platforms</td>\n",
       "      <td>1009.4070</td>\n",
       "    </tr>\n",
       "    <tr>\n",
       "      <th>850</th>\n",
       "      <td>Young-Thompson Roi</td>\n",
       "      <td>2433.0600</td>\n",
       "    </tr>\n",
       "    <tr>\n",
       "      <th>851</th>\n",
       "      <td>Zamora Group Web-readiness</td>\n",
       "      <td>610.0150</td>\n",
       "    </tr>\n",
       "  </tbody>\n",
       "</table>\n",
       "<p>852 rows × 2 columns</p>\n",
       "</div>"
      ],
      "text/plain": [
       "                                              name  amount_color\n",
       "0               Acevedo, Dalton and Coleman Niches     1402.1490\n",
       "1                                 Acosta PLC Users     1251.2000\n",
       "2    Acosta, Gonzalez and Petersen Functionalities      269.2550\n",
       "3                      Adams and Sons Deliverables     3630.7800\n",
       "4                       Adkins-Brown Methodologies     1072.6769\n",
       "5                         Aguilar-Lawrence Vortals      107.4960\n",
       "6                         Alexander Group Eyeballs      103.1660\n",
       "7              Alexander, Lyons and Gomez Networks     2111.5200\n",
       "8            Alexander, Shepherd and Hall Services     1207.0750\n",
       "9                       Alexander-Cook Communities      527.3250\n",
       "10                        Allen Ltd Info-mediaries     1027.1600\n",
       "11                            Allen-Webster Models     2686.1700\n",
       "12         Alvarado, Taylor and Casey Deliverables     1233.8200\n",
       "13            Alvarado, Yoder and Torres Mindshare     1539.6510\n",
       "14                           Alvarez Ltd Synergies     3447.7040\n",
       "15                            Alvarez-White Models      353.0750\n",
       "16                            Anderson Inc Metrics     4610.8020\n",
       "17                      Anderson Inc Supply-chains      578.5200\n",
       "18                      Anderson Ltd Relationships      498.7200\n",
       "19                          Anderson PLC E-tailers      178.4110\n",
       "20                  Anderson and Sons Deliverables     1010.6800\n",
       "21                       Anderson and Sons Vortals     1991.3100\n",
       "22               Anderson, Small and Jones Markets      773.5200\n",
       "23                         Anderson-Cordova Models     1862.6750\n",
       "24                           Andrews Group Markets      586.6280\n",
       "25                      Andrews LLC Info-mediaries     1844.3810\n",
       "26        Andrews, Bennett and Lee Functionalities      354.2400\n",
       "27             Andrews, Cook and Case Partnerships     1341.5920\n",
       "28                            Armstrong Ltd Niches     1007.2750\n",
       "29         Armstrong, Tanner and Hopkins Mindshare     1091.7480\n",
       "..                                             ...           ...\n",
       "822                       Williams-Ross E-commerce      462.0600\n",
       "823                       Williams-Rowe Interfaces      550.0740\n",
       "824                  Williams-York Infrastructures     1518.8400\n",
       "825       Williamson, Baxter and Garcia Interfaces     1909.1150\n",
       "826        Williamson, Taylor and Grant E-business     1512.0420\n",
       "827                           Willis Ltd Synergies      769.5960\n",
       "828                           Wilson Inc E-tailers      852.9358\n",
       "829                          Wilson PLC Interfaces      725.5750\n",
       "830                   Wilson-Curry Functionalities      427.7490\n",
       "831                   Wilson-Gonzalez Partnerships     2322.4700\n",
       "832                      Wilson-Harrington Content      567.2640\n",
       "833                      Winters-Jackson Platforms      375.8200\n",
       "834                  Wolf, Parker and Church Users     3523.9600\n",
       "835      Wolfe, Houston and Zamora Infrastructures      392.5320\n",
       "836              Wood, Ellis and Diaz Technologies     3376.1920\n",
       "837          Wood, Nelson and Stevens Action-items     1403.9200\n",
       "838           Wood, Silva and Brooks Supply-chains     2682.7290\n",
       "839                          Wood-Nelson Mindshare     1862.3220\n",
       "840                        Wood-Smith Partnerships     1229.9280\n",
       "841        Woodard, Eaton and Harris Web-readiness      792.8640\n",
       "842    Woodward, Martinez and Nelson Relationships     1114.9421\n",
       "843                             Wright Inc Portals      979.6200\n",
       "844                 Wright, Olson and Pope Markets     1424.8250\n",
       "845     Wright, Zimmerman and Cannon Web-readiness      324.4480\n",
       "846                        Wright-Roth Initiatives     2989.0240\n",
       "847          Yang, Pruitt and Oconnor Action-items     1713.3120\n",
       "848                    Young and Sons Technologies     1231.9860\n",
       "849              Young, Hess and Mcbride Platforms     1009.4070\n",
       "850                             Young-Thompson Roi     2433.0600\n",
       "851                     Zamora Group Web-readiness      610.0150\n",
       "\n",
       "[852 rows x 2 columns]"
      ]
     },
     "execution_count": 564,
     "metadata": {},
     "output_type": "execute_result"
    }
   ],
   "source": [
    "df"
   ]
  },
  {
   "cell_type": "code",
   "execution_count": 565,
   "metadata": {
    "collapsed": true
   },
   "outputs": [],
   "source": [
    "header=['Id','Company','amount','x_value','y_value']\n",
    "out = open('out.csv', 'w')\n",
    "for row in header:\n",
    "   out.write('%s,' % row)\n",
    "out.write('\\n')\n"
   ]
  },
  {
   "cell_type": "code",
   "execution_count": 566,
   "metadata": {
    "collapsed": true
   },
   "outputs": [],
   "source": [
    "\n",
    "\n",
    "\n",
    "for index,row in df.iterrows():\n",
    "    try:\n",
    "        loc_id_val=loc_Values[row['name']]\n",
    "    except KeyError as ke:\n",
    "        continue\n",
    "    out.write(str(loc_id_val[2])+',')\n",
    "    out.write(str(row['name']).replace(',','')+',')\n",
    "    out.write(str(row['amount_color'])+',')\n",
    "    out.write(str(loc_id_val[0])+',')\n",
    "    out.write(str(loc_id_val[1])+'\\n')\n",
    "  \n",
    "   \n",
    "    \n",
    "\n",
    "    \n",
    "    \n",
    "    "
   ]
  },
  {
   "cell_type": "code",
   "execution_count": 567,
   "metadata": {
    "collapsed": true
   },
   "outputs": [],
   "source": [
    "out.close()"
   ]
  },
  {
   "cell_type": "code",
   "execution_count": null,
   "metadata": {
    "collapsed": true
   },
   "outputs": [],
   "source": []
  },
  {
   "cell_type": "code",
   "execution_count": null,
   "metadata": {
    "collapsed": true
   },
   "outputs": [],
   "source": []
  },
  {
   "cell_type": "code",
   "execution_count": null,
   "metadata": {
    "collapsed": true
   },
   "outputs": [],
   "source": []
  }
 ],
 "metadata": {
  "kernelspec": {
   "display_name": "Python 3",
   "language": "python",
   "name": "python3"
  },
  "language_info": {
   "codemirror_mode": {
    "name": "ipython",
    "version": 3
   },
   "file_extension": ".py",
   "mimetype": "text/x-python",
   "name": "python",
   "nbconvert_exporter": "python",
   "pygments_lexer": "ipython3",
   "version": "3.6.1"
  }
 },
 "nbformat": 4,
 "nbformat_minor": 2
}
